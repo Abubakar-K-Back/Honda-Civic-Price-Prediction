{
 "cells": [
  {
   "cell_type": "code",
   "execution_count": 5,
   "metadata": {
    "collapsed": true
   },
   "outputs": [],
   "source": [
    "import pandas as pd"
   ]
  },
  {
   "cell_type": "code",
   "execution_count": 6,
   "metadata": {
    "collapsed": true
   },
   "outputs": [],
   "source": [
    "df=pd.read_csv('../PakWheelsScraper/Pakwheels.csv')"
   ]
  },
  {
   "cell_type": "code",
   "execution_count": 7,
   "metadata": {
    "collapsed": true
   },
   "outputs": [],
   "source": [
    "for i in range(len(df)):\n",
    "    if(df['titles'][i].startswith(\"Honda\")==False):\n",
    "        df=df.drop(i)\n",
    "        "
   ]
  },
  {
   "cell_type": "code",
   "execution_count": 8,
   "metadata": {},
   "outputs": [],
   "source": [
    "df=df.reset_index(drop=True)\n",
    "for i in range(len(df)):\n",
    "    if(df['information'][i].startswith(\"Managed\")==True):\n",
    "        df=df.drop(i)"
   ]
  },
  {
   "cell_type": "code",
   "execution_count": 9,
   "metadata": {
    "collapsed": true
   },
   "outputs": [],
   "source": [
    "df=df.reset_index(drop=True)\n",
    "for i in range(len(df)):\n",
    "    if(df['information'][i].startswith(\"Islamabad\")==True):\n",
    "        df=df.drop(i)"
   ]
  },
  {
   "cell_type": "code",
   "execution_count": 10,
   "metadata": {
    "collapsed": true
   },
   "outputs": [],
   "source": [
    "df=df.reset_index(drop=True)\n",
    "for i in range(len(df)):\n",
    "    if(df['information'][i].startswith(\"Karachi\")==True):\n",
    "        df=df.drop(i)"
   ]
  },
  {
   "cell_type": "code",
   "execution_count": 11,
   "metadata": {
    "collapsed": true
   },
   "outputs": [],
   "source": [
    "df=df.reset_index(drop=True)\n",
    "for i in range(len(df)):\n",
    "    if(df['information'][i].startswith(\"PKR\")==True):\n",
    "        df=df.drop(i)"
   ]
  },
  {
   "cell_type": "code",
   "execution_count": 14,
   "metadata": {},
   "outputs": [],
   "source": [
    "df=df.reset_index(drop=True)\n",
    "year=[]\n",
    "mileage=[]\n",
    "cc=[]\n",
    "Engine=[]\n",
    "Transmission=[]\n",
    "for i in range(len(df['information'])):\n",
    "    year.append(df['information'][i].split(\" \")[0])\n",
    "    mileage.append(df['information'][i].split(\" \")[1])\n",
    "    cc.append(df['information'][i].split(\" \")[4])\n",
    "    Engine.append(df['information'][i].split(\" \")[3])\n",
    "    Transmission.append(df['information'][i].split(\" \")[6])\n",
    "\n",
    "df['Engine']=Engine\n",
    "df['CC']=cc\n",
    "df['Transmission']=Transmission\n",
    "df['mileage']=mileage\n",
    "df['year']=year"
   ]
  },
  {
   "cell_type": "code",
   "execution_count": 15,
   "metadata": {},
   "outputs": [],
   "source": [
    "pd.set_option('display.max_rows', 10000)\n",
    "prices=[]\n",
    "for i in range(len(df)):\n",
    "    prices.append(df['price'][i].split(\" \")[1])\n",
    "\n",
    "df['prices']=prices"
   ]
  },
  {
   "cell_type": "code",
   "execution_count": 16,
   "metadata": {},
   "outputs": [],
   "source": [
    "df=df.drop(columns=['price','information'])"
   ]
  },
  {
   "cell_type": "code",
   "execution_count": 17,
   "metadata": {
    "collapsed": true
   },
   "outputs": [],
   "source": [
    "df.to_csv('../data/Pakwheels_Cleaned.csv')"
   ]
  },
  {
   "cell_type": "code",
   "execution_count": null,
   "metadata": {
    "collapsed": true
   },
   "outputs": [],
   "source": []
  },
  {
   "cell_type": "code",
   "execution_count": null,
   "metadata": {
    "collapsed": true
   },
   "outputs": [],
   "source": []
  }
 ],
 "metadata": {
  "kernelspec": {
   "display_name": "Python 3",
   "language": "python",
   "name": "python3"
  },
  "language_info": {
   "codemirror_mode": {
    "name": "ipython",
    "version": 3
   },
   "file_extension": ".py",
   "mimetype": "text/x-python",
   "name": "python",
   "nbconvert_exporter": "python",
   "pygments_lexer": "ipython3",
   "version": "3.5.4"
  }
 },
 "nbformat": 4,
 "nbformat_minor": 2
}
