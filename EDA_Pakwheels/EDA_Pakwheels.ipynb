{
 "cells": [
  {
   "cell_type": "code",
   "execution_count": 45,
   "metadata": {
    "collapsed": true
   },
   "outputs": [],
   "source": [
    "import pandas as pd\n",
    "pd.set_option('display.max_rows', 10000)\n",
    "import matplotlib.pyplot as plt\n",
    "import seaborn as sns\n",
    "import sklearn\n",
    "from numpy import cov\n",
    "\n"
   ]
  },
  {
   "cell_type": "code",
   "execution_count": 46,
   "metadata": {
    "collapsed": true
   },
   "outputs": [],
   "source": [
    "df=pd.read_csv('../data/Pakwheels_Cleaned.csv')"
   ]
  },
  {
   "cell_type": "code",
   "execution_count": 47,
   "metadata": {
    "collapsed": true
   },
   "outputs": [],
   "source": [
    "df=df.drop(columns=['Unnamed: 0','Unnamed: 0.1'])"
   ]
  },
  {
   "cell_type": "code",
   "execution_count": 48,
   "metadata": {
    "collapsed": true
   },
   "outputs": [],
   "source": [
    "CC=[]\n",
    "for i in range(len(df)):\n",
    "    CC.append(int(df['CC'][i]))\n",
    "df['CC']=CC"
   ]
  },
  {
   "cell_type": "code",
   "execution_count": 49,
   "metadata": {},
   "outputs": [
    {
     "data": {
      "image/png": "[encoded data removed]",
      "text/plain": [
       "<matplotlib.figure.Figure at 0x1f8193829b0>"
      ]
     },
     "metadata": {},
     "output_type": "display_data"
    }
   ],
   "source": [
    "plt.plot(df['prices'],df['year'])\n",
    "plt.show()"
   ]
  },
  {
   "cell_type": "code",
   "execution_count": 50,
   "metadata": {},
   "outputs": [
    {
     "data": {
      "text/plain": [
       "titles           object\n",
       "city             object\n",
       "Engine           object\n",
       "CC                int64\n",
       "Transmission     object\n",
       "mileage           int64\n",
       "year              int64\n",
       "prices          float64\n",
       "dtype: object"
      ]
     },
     "execution_count": 50,
     "metadata": {},
     "output_type": "execute_result"
    }
   ],
   "source": [
    "df.dtypes"
   ]
  },
  {
   "cell_type": "code",
   "execution_count": 51,
   "metadata": {},
   "outputs": [
    {
     "data": {
      "text/html": [
       "<div>\n",
       "<style scoped>\n",
       "    .dataframe tbody tr th:only-of-type {\n",
       "        vertical-align: middle;\n",
       "    }\n",
       "\n",
       "    .dataframe tbody tr th {\n",
       "        vertical-align: top;\n",
       "    }\n",
       "\n",
       "    .dataframe thead th {\n",
       "        text-align: right;\n",
       "    }\n",
       "</style>\n",
       "<table border=\"1\" class=\"dataframe\">\n",
       "  <thead>\n",
       "    <tr style=\"text-align: right;\">\n",
       "      <th></th>\n",
       "      <th>titles</th>\n",
       "      <th>city</th>\n",
       "      <th>Engine</th>\n",
       "      <th>CC</th>\n",
       "      <th>Transmission</th>\n",
       "      <th>mileage</th>\n",
       "      <th>year</th>\n",
       "      <th>prices</th>\n",
       "    </tr>\n",
       "  </thead>\n",
       "  <tbody>\n",
       "    <tr>\n",
       "      <th>0</th>\n",
       "      <td>Honda Civic Rebirth 2015 VTi Oriel Prosmatec 1...</td>\n",
       "      <td>Islamabad</td>\n",
       "      <td>Petrol</td>\n",
       "      <td>1800</td>\n",
       "      <td>Automatic</td>\n",
       "      <td>44000</td>\n",
       "      <td>2015</td>\n",
       "      <td>32.50</td>\n",
       "    </tr>\n",
       "    <tr>\n",
       "      <th>1</th>\n",
       "      <td>Honda Civic 2020 Oriel 1.8 i-VTEC CVT for Sale</td>\n",
       "      <td>Islamabad</td>\n",
       "      <td>Petrol</td>\n",
       "      <td>1800</td>\n",
       "      <td>Automatic</td>\n",
       "      <td>24000</td>\n",
       "      <td>2020</td>\n",
       "      <td>42.50</td>\n",
       "    </tr>\n",
       "    <tr>\n",
       "      <th>2</th>\n",
       "      <td>Honda Civic 2018 Oriel 1.8 i-VTEC CVT for Sale</td>\n",
       "      <td>Islamabad</td>\n",
       "      <td>Petrol</td>\n",
       "      <td>1800</td>\n",
       "      <td>Automatic</td>\n",
       "      <td>7000</td>\n",
       "      <td>2018</td>\n",
       "      <td>39.75</td>\n",
       "    </tr>\n",
       "    <tr>\n",
       "      <th>3</th>\n",
       "      <td>Honda Civic 2012 VTi Oriel Prosmatec 1.8 i-VT...</td>\n",
       "      <td>Karachi</td>\n",
       "      <td>Petrol</td>\n",
       "      <td>1800</td>\n",
       "      <td>Automatic</td>\n",
       "      <td>85000</td>\n",
       "      <td>2012</td>\n",
       "      <td>19.75</td>\n",
       "    </tr>\n",
       "    <tr>\n",
       "      <th>4</th>\n",
       "      <td>Honda Civic 2017 Oriel 1.8 i-VTEC CVT for Sale</td>\n",
       "      <td>Karachi</td>\n",
       "      <td>Petrol</td>\n",
       "      <td>1800</td>\n",
       "      <td>Automatic</td>\n",
       "      <td>6300</td>\n",
       "      <td>2017</td>\n",
       "      <td>37.00</td>\n",
       "    </tr>\n",
       "  </tbody>\n",
       "</table>\n",
       "</div>"
      ],
      "text/plain": [
       "                                              titles       city  Engine    CC  \\\n",
       "0  Honda Civic Rebirth 2015 VTi Oriel Prosmatec 1...  Islamabad  Petrol  1800   \n",
       "1     Honda Civic 2020 Oriel 1.8 i-VTEC CVT for Sale  Islamabad  Petrol  1800   \n",
       "2     Honda Civic 2018 Oriel 1.8 i-VTEC CVT for Sale  Islamabad  Petrol  1800   \n",
       "3   Honda Civic 2012 VTi Oriel Prosmatec 1.8 i-VT...    Karachi  Petrol  1800   \n",
       "4     Honda Civic 2017 Oriel 1.8 i-VTEC CVT for Sale    Karachi  Petrol  1800   \n",
       "\n",
       "  Transmission  mileage  year  prices  \n",
       "0    Automatic    44000  2015   32.50  \n",
       "1    Automatic    24000  2020   42.50  \n",
       "2    Automatic     7000  2018   39.75  \n",
       "3    Automatic    85000  2012   19.75  \n",
       "4    Automatic     6300  2017   37.00  "
      ]
     },
     "execution_count": 51,
     "metadata": {},
     "output_type": "execute_result"
    }
   ],
   "source": [
    "df.head()"
   ]
  },
  {
   "cell_type": "code",
   "execution_count": 52,
   "metadata": {
    "collapsed": true
   },
   "outputs": [],
   "source": [
    "df['Transmission'].unique()\n",
    "df['Transmission']=df[\"Transmission\"].astype('category')\n",
    "df['Transmission']=df[\"Transmission\"].cat.codes\n",
    "#Automatic=0\n",
    "#Manual=1"
   ]
  },
  {
   "cell_type": "code",
   "execution_count": 53,
   "metadata": {},
   "outputs": [
    {
     "data": {
      "text/plain": [
       "array(['Petrol', 'CNG', 'Hybrid', 'Electric', 'Diesel', 'LPG'],\n",
       "      dtype=object)"
      ]
     },
     "execution_count": 53,
     "metadata": {},
     "output_type": "execute_result"
    }
   ],
   "source": [
    "df['Engine'].unique()"
   ]
  },
  {
   "cell_type": "code",
   "execution_count": 54,
   "metadata": {
    "collapsed": true
   },
   "outputs": [],
   "source": [
    "df['Engine']=df[\"Engine\"].astype('category')\n",
    "df['Engine']=df[\"Engine\"].cat.codes\n",
    "#Petrol=5\n",
    "#CNG=0\n",
    "#Hybrid=3\n",
    "#Electric=2\n",
    "#Diesel=1\n",
    "#LPG=4"
   ]
  },
  {
   "cell_type": "code",
   "execution_count": null,
   "metadata": {
    "collapsed": true
   },
   "outputs": [],
   "source": []
  },
  {
   "cell_type": "code",
   "execution_count": 55,
   "metadata": {
    "collapsed": true
   },
   "outputs": [],
   "source": [
    "pf=df"
   ]
  },
  {
   "cell_type": "code",
   "execution_count": 56,
   "metadata": {
    "collapsed": true
   },
   "outputs": [],
   "source": [
    "city=pf['city'].factorize()[0]\n",
    "mapedCity=pf['city'].factorize()[1]"
   ]
  },
  {
   "cell_type": "code",
   "execution_count": 57,
   "metadata": {
    "collapsed": true
   },
   "outputs": [],
   "source": [
    "df['mapCity']=city"
   ]
  },
  {
   "cell_type": "code",
   "execution_count": 58,
   "metadata": {},
   "outputs": [
    {
     "data": {
      "text/html": [
       "<div>\n",
       "<style scoped>\n",
       "    .dataframe tbody tr th:only-of-type {\n",
       "        vertical-align: middle;\n",
       "    }\n",
       "\n",
       "    .dataframe tbody tr th {\n",
       "        vertical-align: top;\n",
       "    }\n",
       "\n",
       "    .dataframe thead th {\n",
       "        text-align: right;\n",
       "    }\n",
       "</style>\n",
       "<table border=\"1\" class=\"dataframe\">\n",
       "  <thead>\n",
       "    <tr style=\"text-align: right;\">\n",
       "      <th></th>\n",
       "      <th>titles</th>\n",
       "      <th>city</th>\n",
       "      <th>Engine</th>\n",
       "      <th>CC</th>\n",
       "      <th>Transmission</th>\n",
       "      <th>mileage</th>\n",
       "      <th>year</th>\n",
       "      <th>prices</th>\n",
       "      <th>mapCity</th>\n",
       "    </tr>\n",
       "  </thead>\n",
       "  <tbody>\n",
       "    <tr>\n",
       "      <th>0</th>\n",
       "      <td>Honda Civic Rebirth 2015 VTi Oriel Prosmatec 1...</td>\n",
       "      <td>Islamabad</td>\n",
       "      <td>5</td>\n",
       "      <td>1800</td>\n",
       "      <td>0</td>\n",
       "      <td>44000</td>\n",
       "      <td>2015</td>\n",
       "      <td>32.50</td>\n",
       "      <td>0</td>\n",
       "    </tr>\n",
       "    <tr>\n",
       "      <th>1</th>\n",
       "      <td>Honda Civic 2020 Oriel 1.8 i-VTEC CVT for Sale</td>\n",
       "      <td>Islamabad</td>\n",
       "      <td>5</td>\n",
       "      <td>1800</td>\n",
       "      <td>0</td>\n",
       "      <td>24000</td>\n",
       "      <td>2020</td>\n",
       "      <td>42.50</td>\n",
       "      <td>0</td>\n",
       "    </tr>\n",
       "    <tr>\n",
       "      <th>2</th>\n",
       "      <td>Honda Civic 2018 Oriel 1.8 i-VTEC CVT for Sale</td>\n",
       "      <td>Islamabad</td>\n",
       "      <td>5</td>\n",
       "      <td>1800</td>\n",
       "      <td>0</td>\n",
       "      <td>7000</td>\n",
       "      <td>2018</td>\n",
       "      <td>39.75</td>\n",
       "      <td>0</td>\n",
       "    </tr>\n",
       "    <tr>\n",
       "      <th>3</th>\n",
       "      <td>Honda Civic 2012 VTi Oriel Prosmatec 1.8 i-VT...</td>\n",
       "      <td>Karachi</td>\n",
       "      <td>5</td>\n",
       "      <td>1800</td>\n",
       "      <td>0</td>\n",
       "      <td>85000</td>\n",
       "      <td>2012</td>\n",
       "      <td>19.75</td>\n",
       "      <td>1</td>\n",
       "    </tr>\n",
       "    <tr>\n",
       "      <th>4</th>\n",
       "      <td>Honda Civic 2017 Oriel 1.8 i-VTEC CVT for Sale</td>\n",
       "      <td>Karachi</td>\n",
       "      <td>5</td>\n",
       "      <td>1800</td>\n",
       "      <td>0</td>\n",
       "      <td>6300</td>\n",
       "      <td>2017</td>\n",
       "      <td>37.00</td>\n",
       "      <td>1</td>\n",
       "    </tr>\n",
       "  </tbody>\n",
       "</table>\n",
       "</div>"
      ],
      "text/plain": [
       "                                              titles       city  Engine    CC  \\\n",
       "0  Honda Civic Rebirth 2015 VTi Oriel Prosmatec 1...  Islamabad       5  1800   \n",
       "1     Honda Civic 2020 Oriel 1.8 i-VTEC CVT for Sale  Islamabad       5  1800   \n",
       "2     Honda Civic 2018 Oriel 1.8 i-VTEC CVT for Sale  Islamabad       5  1800   \n",
       "3   Honda Civic 2012 VTi Oriel Prosmatec 1.8 i-VT...    Karachi       5  1800   \n",
       "4     Honda Civic 2017 Oriel 1.8 i-VTEC CVT for Sale    Karachi       5  1800   \n",
       "\n",
       "   Transmission  mileage  year  prices  mapCity  \n",
       "0             0    44000  2015   32.50        0  \n",
       "1             0    24000  2020   42.50        0  \n",
       "2             0     7000  2018   39.75        0  \n",
       "3             0    85000  2012   19.75        1  \n",
       "4             0     6300  2017   37.00        1  "
      ]
     },
     "execution_count": 58,
     "metadata": {},
     "output_type": "execute_result"
    }
   ],
   "source": [
    "df.head()"
   ]
  },
  {
   "cell_type": "code",
   "execution_count": 59,
   "metadata": {},
   "outputs": [
    {
     "data": {
      "text/plain": [
       "[<matplotlib.lines.Line2D at 0x1f819209b00>,\n",
       " <matplotlib.lines.Line2D at 0x1f819209da0>]"
      ]
     },
     "execution_count": 59,
     "metadata": {},
     "output_type": "execute_result"
    },
    {
     "data": {
      "image/png": "[encoded data removed]",
      "text/plain": [
       "<matplotlib.figure.Figure at 0x1f81487bf98>"
      ]
     },
     "metadata": {},
     "output_type": "display_data"
    }
   ],
   "source": [
    "df[['mapCity','prices']]\n",
    "plt.plot(df[['mapCity','prices']])"
   ]
  },
  {
   "cell_type": "code",
   "execution_count": 60,
   "metadata": {},
   "outputs": [],
   "source": [
    "plt.show()"
   ]
  },
  {
   "cell_type": "code",
   "execution_count": 61,
   "metadata": {},
   "outputs": [
    {
     "data": {
      "text/html": [
       "<div>\n",
       "<style scoped>\n",
       "    .dataframe tbody tr th:only-of-type {\n",
       "        vertical-align: middle;\n",
       "    }\n",
       "\n",
       "    .dataframe tbody tr th {\n",
       "        vertical-align: top;\n",
       "    }\n",
       "\n",
       "    .dataframe thead th {\n",
       "        text-align: right;\n",
       "    }\n",
       "</style>\n",
       "<table border=\"1\" class=\"dataframe\">\n",
       "  <thead>\n",
       "    <tr style=\"text-align: right;\">\n",
       "      <th></th>\n",
       "      <th>titles</th>\n",
       "      <th>city</th>\n",
       "      <th>Engine</th>\n",
       "      <th>CC</th>\n",
       "      <th>Transmission</th>\n",
       "      <th>mileage</th>\n",
       "      <th>year</th>\n",
       "      <th>prices</th>\n",
       "      <th>mapCity</th>\n",
       "    </tr>\n",
       "  </thead>\n",
       "  <tbody>\n",
       "    <tr>\n",
       "      <th>0</th>\n",
       "      <td>Honda Civic Rebirth 2015 VTi Oriel Prosmatec 1...</td>\n",
       "      <td>Islamabad</td>\n",
       "      <td>5</td>\n",
       "      <td>1800</td>\n",
       "      <td>0</td>\n",
       "      <td>44000</td>\n",
       "      <td>2015</td>\n",
       "      <td>32.50</td>\n",
       "      <td>0</td>\n",
       "    </tr>\n",
       "    <tr>\n",
       "      <th>1</th>\n",
       "      <td>Honda Civic 2020 Oriel 1.8 i-VTEC CVT for Sale</td>\n",
       "      <td>Islamabad</td>\n",
       "      <td>5</td>\n",
       "      <td>1800</td>\n",
       "      <td>0</td>\n",
       "      <td>24000</td>\n",
       "      <td>2020</td>\n",
       "      <td>42.50</td>\n",
       "      <td>0</td>\n",
       "    </tr>\n",
       "    <tr>\n",
       "      <th>2</th>\n",
       "      <td>Honda Civic 2018 Oriel 1.8 i-VTEC CVT for Sale</td>\n",
       "      <td>Islamabad</td>\n",
       "      <td>5</td>\n",
       "      <td>1800</td>\n",
       "      <td>0</td>\n",
       "      <td>7000</td>\n",
       "      <td>2018</td>\n",
       "      <td>39.75</td>\n",
       "      <td>0</td>\n",
       "    </tr>\n",
       "    <tr>\n",
       "      <th>3</th>\n",
       "      <td>Honda Civic 2012 VTi Oriel Prosmatec 1.8 i-VT...</td>\n",
       "      <td>Karachi</td>\n",
       "      <td>5</td>\n",
       "      <td>1800</td>\n",
       "      <td>0</td>\n",
       "      <td>85000</td>\n",
       "      <td>2012</td>\n",
       "      <td>19.75</td>\n",
       "      <td>1</td>\n",
       "    </tr>\n",
       "    <tr>\n",
       "      <th>4</th>\n",
       "      <td>Honda Civic 2017 Oriel 1.8 i-VTEC CVT for Sale</td>\n",
       "      <td>Karachi</td>\n",
       "      <td>5</td>\n",
       "      <td>1800</td>\n",
       "      <td>0</td>\n",
       "      <td>6300</td>\n",
       "      <td>2017</td>\n",
       "      <td>37.00</td>\n",
       "      <td>1</td>\n",
       "    </tr>\n",
       "  </tbody>\n",
       "</table>\n",
       "</div>"
      ],
      "text/plain": [
       "                                              titles       city  Engine    CC  \\\n",
       "0  Honda Civic Rebirth 2015 VTi Oriel Prosmatec 1...  Islamabad       5  1800   \n",
       "1     Honda Civic 2020 Oriel 1.8 i-VTEC CVT for Sale  Islamabad       5  1800   \n",
       "2     Honda Civic 2018 Oriel 1.8 i-VTEC CVT for Sale  Islamabad       5  1800   \n",
       "3   Honda Civic 2012 VTi Oriel Prosmatec 1.8 i-VT...    Karachi       5  1800   \n",
       "4     Honda Civic 2017 Oriel 1.8 i-VTEC CVT for Sale    Karachi       5  1800   \n",
       "\n",
       "   Transmission  mileage  year  prices  mapCity  \n",
       "0             0    44000  2015   32.50        0  \n",
       "1             0    24000  2020   42.50        0  \n",
       "2             0     7000  2018   39.75        0  \n",
       "3             0    85000  2012   19.75        1  \n",
       "4             0     6300  2017   37.00        1  "
      ]
     },
     "execution_count": 61,
     "metadata": {},
     "output_type": "execute_result"
    }
   ],
   "source": [
    "df.dtypes\n",
    "df.head()"
   ]
  },
  {
   "cell_type": "code",
   "execution_count": 62,
   "metadata": {
    "collapsed": true
   },
   "outputs": [],
   "source": [
    "covariance=cov(df['prices'],df['mileage'])"
   ]
  },
  {
   "cell_type": "code",
   "execution_count": 63,
   "metadata": {
    "collapsed": true
   },
   "outputs": [],
   "source": [
    "from scipy.stats import pearsonr"
   ]
  },
  {
   "cell_type": "code",
   "execution_count": 64,
   "metadata": {},
   "outputs": [
    {
     "name": "stdout",
     "output_type": "stream",
     "text": [
      "Pearsons correlation: -0.558\n"
     ]
    }
   ],
   "source": [
    "corr, _ = pearsonr(df['prices'].values, df['Transmission'].values)\n",
    "print('Pearsons correlation: %.3f' % corr)\n",
    "#correlation with engine = 0.096\n",
    "#correlation with City = -0.085\n",
    "#correlation with year = 0.937\n",
    "#correlation with CC = 0.541\n",
    "#correlation with Transmission = -0.558"
   ]
  },
  {
   "cell_type": "code",
   "execution_count": 65,
   "metadata": {},
   "outputs": [
    {
     "name": "stdout",
     "output_type": "stream",
     "text": [
      "Spearmans correlation: 0.089\n"
     ]
    }
   ],
   "source": [
    "from scipy.stats import spearmanr\n",
    "corr, _ = spearmanr(df['prices'].values, df['Engine'].values)\n",
    "print('Spearmans correlation: %.3f' % corr)\n",
    "#Spearman correlation with engine = 0.089\n",
    "#Spearman correlation with City = -0.060\n",
    "#Spearman correlation with year = 0.981\n",
    "#Spearman correlation with CC = 0.640\n",
    "#Spearman correlation with Transmission = -0.571"
   ]
  },
  {
   "cell_type": "code",
   "execution_count": 68,
   "metadata": {},
   "outputs": [
    {
     "data": {
      "image/png": "[encoded data removed]",
      "text/plain": [
       "<matplotlib.figure.Figure at 0x1f8148be940>"
      ]
     },
     "metadata": {},
     "output_type": "display_data"
    }
   ],
   "source": [
    "#Importing Libraries\n",
    "import pandas as pd\n",
    "import matplotlib.pyplot as plt\n",
    "%matplotlib inline\n",
    "from wordcloud import WordCloud\n",
    "#Importing Dataset\n",
    "df = df\n",
    "#Checking the Data\n",
    "df.head()\n",
    "#Checking for NaN values\n",
    "df.isna().sum()\n",
    "#Removing NaN Values\n",
    "#df.dropna(inplace = True)\n",
    "#Creating the text variable\n",
    "text = \"\".join(cat.split()[1] for cat in df.titles)\n",
    "# Creating word_cloud with text as argument in .generate() method\n",
    "word_cloud = WordCloud(collocations = False, background_color = 'white',height=20,width=20,max_words=2000).generate(text)\n",
    "# Display the generated Word Cloud\n",
    "plt.imshow(wordcloud, interpolation='bilinear')\n",
    "plt.axis(\"off\")\n",
    "plt.show()"
   ]
  },
  {
   "cell_type": "code",
   "execution_count": 69,
   "metadata": {},
   "outputs": [],
   "source": [
    "pf=df[['Engine','CC','Transmission','mileage','year','prices','mapCity']]\n",
    "pf.to_csv('../data/PakwheelsEDA.csv')"
   ]
  }
 ],
 "metadata": {
  "kernelspec": {
   "display_name": "Python 3",
   "language": "python",
   "name": "python3"
  },
  "language_info": {
   "codemirror_mode": {
    "name": "ipython",
    "version": 3
   },
   "file_extension": ".py",
   "mimetype": "text/x-python",
   "name": "python",
   "nbconvert_exporter": "python",
   "pygments_lexer": "ipython3",
   "version": "3.5.4"
  }
 },
 "nbformat": 4,
 "nbformat_minor": 2
}
