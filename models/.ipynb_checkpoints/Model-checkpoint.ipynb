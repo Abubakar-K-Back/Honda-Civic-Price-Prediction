{
 "cells": [
  {
   "cell_type": "code",
   "execution_count": 16,
   "metadata": {
    "collapsed": true
   },
   "outputs": [],
   "source": [
    "import pandas as pd\n",
    "import sklearn\n",
    "from sklearn.model_selection import train_test_split\n",
    "import matplotlib.pyplot as plt\n",
    "import math"
   ]
  },
  {
   "cell_type": "code",
   "execution_count": 2,
   "metadata": {
    "collapsed": true
   },
   "outputs": [],
   "source": [
    "df=pd.read_csv(\"../data/PakwheelsEDA.csv\")"
   ]
  },
  {
   "cell_type": "code",
   "execution_count": 3,
   "metadata": {
    "collapsed": true
   },
   "outputs": [],
   "source": [
    "df=df.drop(columns=['Unnamed: 0'])"
   ]
  },
  {
   "cell_type": "code",
   "execution_count": 4,
   "metadata": {},
   "outputs": [
    {
     "data": {
      "text/plain": [
       "Engine            int64\n",
       "CC                int64\n",
       "Transmission      int64\n",
       "mileage           int64\n",
       "year              int64\n",
       "prices          float64\n",
       "mapCity           int64\n",
       "dtype: object"
      ]
     },
     "execution_count": 4,
     "metadata": {},
     "output_type": "execute_result"
    }
   ],
   "source": [
    "df.dtypes"
   ]
  },
  {
   "cell_type": "code",
   "execution_count": 5,
   "metadata": {
    "collapsed": true
   },
   "outputs": [],
   "source": [
    "#y=independent Varibales\n",
    "#x=dependent variables"
   ]
  },
  {
   "cell_type": "code",
   "execution_count": 6,
   "metadata": {
    "collapsed": true
   },
   "outputs": [],
   "source": [
    "y=df[['Engine','CC','Transmission','mileage','year','mapCity']].values"
   ]
  },
  {
   "cell_type": "code",
   "execution_count": 7,
   "metadata": {},
   "outputs": [
    {
     "data": {
      "text/plain": [
       "array([32.5 , 42.5 , 39.75, ..., 24.75, 36.  , 25.  ])"
      ]
     },
     "execution_count": 7,
     "metadata": {},
     "output_type": "execute_result"
    }
   ],
   "source": [
    "x=df['prices'].values\n",
    "x"
   ]
  },
  {
   "cell_type": "code",
   "execution_count": 8,
   "metadata": {
    "collapsed": true
   },
   "outputs": [],
   "source": [
    "xTrain, xTest, yTrain, yTest = train_test_split(x, y, test_size = 0.2, random_state = 0)"
   ]
  },
  {
   "cell_type": "code",
   "execution_count": 9,
   "metadata": {},
   "outputs": [
    {
     "name": "stdout",
     "output_type": "stream",
     "text": [
      "3231\n",
      "3231\n",
      "808\n",
      "808\n"
     ]
    }
   ],
   "source": [
    "print(len(xTrain))\n",
    "print(len(yTrain))\n",
    "print(len(xTest))\n",
    "print(len(yTest))"
   ]
  },
  {
   "cell_type": "markdown",
   "metadata": {},
   "source": [
    "# Random Forest Regressor"
   ]
  },
  {
   "cell_type": "code",
   "execution_count": 65,
   "metadata": {},
   "outputs": [
    {
     "name": "stderr",
     "output_type": "stream",
     "text": [
      "C:\\Users\\Abubakar\\Anaconda3\\envs\\tfdeeplearning\\lib\\site-packages\\ipykernel_launcher.py:4: DataConversionWarning: A column-vector y was passed when a 1d array was expected. Please change the shape of y to (n_samples,), for example using ravel().\n",
      "  after removing the cwd from sys.path.\n"
     ]
    },
    {
     "name": "stdout",
     "output_type": "stream",
     "text": [
      "\n",
      "\n",
      "Mean Square Error [11.08283746] %\n",
      "Root Mean Square Error 3.3290895842826336 %\n"
     ]
    },
    {
     "data": {
      "text/plain": [
       "['./RandomForest.joblib']"
      ]
     },
     "execution_count": 65,
     "metadata": {},
     "output_type": "execute_result"
    }
   ],
   "source": [
    "from sklearn.ensemble import RandomForestRegressor\n",
    "\n",
    "regr = RandomForestRegressor(max_depth=2, random_state=0)\n",
    "regr.fit(yTrain,xTrain.reshape(-1,1) )\n",
    "def RandomForestaccuracy(y):\n",
    "    p=regr.predict([y])\n",
    "    return p\n",
    "\n",
    "print()\n",
    "print()\n",
    "\n",
    "RFPredicted=[]\n",
    "RFTrue=[]\n",
    "for i in range(len(yTest)):\n",
    "    RFPredicted.append(RandomForestaccuracy(yTest[i]))\n",
    "    RFTrue.append(xTest[i])\n",
    "\n",
    "x=[]\n",
    "for i in range (len(RFPredicted)):\n",
    "    x.append((RFTrue[i]-RFPredicted[i])**2)\n",
    "MeanSquareError=(sum(x)/len(x))\n",
    "print(\"Mean Square Error\",MeanSquareError,\"%\")\n",
    "\n",
    "print(\"Root Mean Square Error\",math.sqrt(MeanSquareError),\"%\")\n",
    "\n",
    "from joblib import dump, load\n",
    "dump(regr, './RandomForest.joblib') \n"
   ]
  },
  {
   "cell_type": "markdown",
   "metadata": {},
   "source": [
    "#     Linear Regression"
   ]
  },
  {
   "cell_type": "code",
   "execution_count": 35,
   "metadata": {},
   "outputs": [
    {
     "name": "stdout",
     "output_type": "stream",
     "text": [
      "\n",
      "\n",
      "Mean Square Error [[14.53640369]] %\n",
      "Root Mean Square Error 3.8126635950365753 %\n"
     ]
    },
    {
     "data": {
      "text/plain": [
       "['./LinearRegression.joblib']"
      ]
     },
     "execution_count": 35,
     "metadata": {},
     "output_type": "execute_result"
    }
   ],
   "source": [
    "from sklearn.linear_model import LinearRegression\n",
    "\n",
    "reg = LinearRegression().fit(yTrain,xTrain.reshape(-1,1))\n",
    "reg.score(yTrain,xTrain.reshape(-1,1))\n",
    "reg.coef_\n",
    "reg.intercept_\n",
    "reg.predict([[5,1800,0,42000,2018,2]])\n",
    "def accuracy(y):\n",
    "    p=reg.predict([y])\n",
    "    return p\n",
    "\n",
    "print()\n",
    "print()\n",
    "\n",
    "LRPredicted=[]\n",
    "LRTrue=[]\n",
    "for i in range(len(yTest)):\n",
    "    LRPredicted.append(accuracy(yTest[i]))\n",
    "    LRTrue.append(xTest[i])\n",
    "\n",
    "x=[]\n",
    "for i in range (len(LRPredicted)):\n",
    "    x.append((LRTrue[i]-LRPredicted[i])**2)\n",
    "MeanSquareError=(sum(x)/len(x))\n",
    "\n",
    "print(\"Mean Square Error\",MeanSquareError,\"%\")\n",
    "\n",
    "print(\"Root Mean Square Error\",math.sqrt(MeanSquareError),\"%\")\n",
    "\n",
    "from joblib import dump, load\n",
    "dump(reg, './LinearRegression.joblib') \n"
   ]
  },
  {
   "cell_type": "markdown",
   "metadata": {},
   "source": [
    "# KNeighborsRegressor"
   ]
  },
  {
   "cell_type": "code",
   "execution_count": 34,
   "metadata": {},
   "outputs": [
    {
     "name": "stdout",
     "output_type": "stream",
     "text": [
      "[[37.15]]\n",
      "\n",
      "\n",
      "Mean Square Error [[32.75912024]]\n",
      "Root Mean Squared Error 5.723558354306217\n"
     ]
    },
    {
     "data": {
      "text/plain": [
       "['./KNNRegression.joblib']"
      ]
     },
     "execution_count": 34,
     "metadata": {},
     "output_type": "execute_result"
    }
   ],
   "source": [
    "from sklearn.neighbors import KNeighborsRegressor\n",
    "neigh = KNeighborsRegressor(n_neighbors=2)\n",
    "neigh.fit(yTrain,xTrain.reshape(-1,1))\n",
    "\n",
    "print(neigh.predict([[5,1800,0,42000,2018,2]]))\n",
    "reg.predict([[5,1800,0,42000,2018,2]])\n",
    "def KNNaccuracy(y):\n",
    "    p=neigh.predict([y])\n",
    "    return p\n",
    "\n",
    "print()\n",
    "print()\n",
    "\n",
    "KNNPredicted=[]\n",
    "KNNTrue=[]\n",
    "for i in range(len(yTest)):\n",
    "    KNNPredicted.append(KNNaccuracy(yTest[i]))\n",
    "    KNNTrue.append(xTest[i])\n",
    "\n",
    "x=[]\n",
    "for i in range (len(KNNPredicted)):\n",
    "    x.append((KNNTrue[i]-KNNPredicted[i])**2)\n",
    "MeanSquareError=(sum(x)/len(x))\n",
    "print(\"Mean Square Error\",MeanSquareError)\n",
    "print(\"Root Mean Squared Error\",math.sqrt(MeanSquareError))\n",
    "\n",
    "from joblib import dump, load\n",
    "dump(neigh, './KNNRegression.joblib') \n"
   ]
  },
  {
   "cell_type": "markdown",
   "metadata": {},
   "source": [
    "# Lasso Regression"
   ]
  },
  {
   "cell_type": "code",
   "execution_count": 33,
   "metadata": {},
   "outputs": [
    {
     "name": "stdout",
     "output_type": "stream",
     "text": [
      "\n",
      "\n",
      "Mean Square Error [14.54916278]\n",
      "Root Mean Squared Error 3.8143364802092923\n"
     ]
    },
    {
     "data": {
      "text/plain": [
       "['./LassoRegression.joblib']"
      ]
     },
     "execution_count": 33,
     "metadata": {},
     "output_type": "execute_result"
    }
   ],
   "source": [
    "from sklearn import linear_model\n",
    "clf = linear_model.Lasso(alpha=0.1)\n",
    "clf.fit(yTrain,xTrain.reshape(-1,1))\n",
    "clf.predict([[5,1800,0,42000,2018,2]])\n",
    "def lassoaccuracy(y):\n",
    "    p=clf.predict([y])\n",
    "    return p\n",
    "\n",
    "print()\n",
    "print()\n",
    "\n",
    "clfPredicted=[]\n",
    "clfTrue=[]\n",
    "for i in range(len(yTest)):\n",
    "    clfPredicted.append(lassoaccuracy(yTest[i]))\n",
    "    clfTrue.append(xTest[i])\n",
    "\n",
    "x=[]\n",
    "for i in range (len(clfPredicted)):\n",
    "    x.append((clfTrue[i]-clfPredicted[i])**2)\n",
    "MeanSquareError=(sum(x)/len(x))\n",
    "print(\"Mean Square Error\",MeanSquareError)\n",
    "print(\"Root Mean Squared Error\",math.sqrt(MeanSquareError))\n",
    "\n",
    "from joblib import dump, load\n",
    "dump(clf, './LassoRegression.joblib') \n"
   ]
  },
  {
   "cell_type": "markdown",
   "metadata": {},
   "source": [
    "# Testing Pickled Models"
   ]
  },
  {
   "cell_type": "code",
   "execution_count": 77,
   "metadata": {},
   "outputs": [
    {
     "data": {
      "image/png": "[encoded data removed]",
      "text/plain": [
       "<IPython.core.display.Image object>"
      ]
     },
     "execution_count": 77,
     "metadata": {
      "image/png": {
       "height": 100,
       "width": 1000
      }
     },
     "output_type": "execute_result"
    }
   ],
   "source": [
    "from IPython.display import Image\n",
    "PATH = \"civic.png\"\n",
    "Image(filename = PATH, width=1000, height=100)\n",
    "# below is the random ad we took from pakwheels which being uploaded 33 minutes ago\n",
    "#Engine => 5  = Petrol\n",
    "#CC =>1800\n",
    "#Transmission => 0 = Automatic\n",
    "#Mileage 31950 \n",
    "#Year = 2018\n",
    "#City => 1 = Lahore\n",
    "#so the final input array would be like [[5,1800,0,31950,2018,1]]"
   ]
  },
  {
   "cell_type": "code",
   "execution_count": 88,
   "metadata": {},
   "outputs": [
    {
     "name": "stdout",
     "output_type": "stream",
     "text": [
      "Random Forest Prediction :  [38.85213007]\n",
      "Knn Regression Prediction :  [[38.25]]\n",
      "Lasso Regression Prediction :  [35.3139501]\n",
      "Linear Regerssion Prediction :  [[35.32317196]]\n"
     ]
    }
   ],
   "source": [
    "Input=[[5,1800,0,31950,2018,1]]\n",
    "#Random Fores Prediction\n",
    "RandomF=load('RandomForest.joblib')\n",
    "print(\"Random Forest Prediction : \",RandomF.predict(Input))\n",
    "\n",
    "#KnnRegressor Prediction\n",
    "knn=load('KNNRegression.joblib')\n",
    "print(\"Knn Regression Prediction : \",knn.predict(Input))\n",
    "\n",
    "#Lasso Regression\n",
    "Lasso=load('LassoRegression.joblib')\n",
    "print(\"Lasso Regression Prediction : \",Lasso.predict(Input))\n",
    "\n",
    "#Linear Regression\n",
    "Linear=load('LinearRegression.joblib')\n",
    "print(\"Linear Regerssion Prediction : \",Linear.predict(Input))"
   ]
  },
  {
   "cell_type": "code",
   "execution_count": null,
   "metadata": {
    "collapsed": true
   },
   "outputs": [],
   "source": []
  }
 ],
 "metadata": {
  "kernelspec": {
   "display_name": "Python 3",
   "language": "python",
   "name": "python3"
  },
  "language_info": {
   "codemirror_mode": {
    "name": "ipython",
    "version": 3
   },
   "file_extension": ".py",
   "mimetype": "text/x-python",
   "name": "python",
   "nbconvert_exporter": "python",
   "pygments_lexer": "ipython3",
   "version": "3.5.4"
  }
 },
 "nbformat": 4,
 "nbformat_minor": 2
}
